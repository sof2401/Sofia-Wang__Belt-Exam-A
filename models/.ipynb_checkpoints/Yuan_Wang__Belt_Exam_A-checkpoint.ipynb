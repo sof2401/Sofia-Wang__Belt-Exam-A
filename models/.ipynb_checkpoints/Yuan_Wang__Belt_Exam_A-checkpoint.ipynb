{
 "cells": [
  {
   "cell_type": "code",
   "execution_count": 1,
   "id": "c5b59868-f664-43f4-891c-b95db017c301",
   "metadata": {
    "id": "c5b59868-f664-43f4-891c-b95db017c301"
   },
   "outputs": [
    {
     "ename": "ModuleNotFoundError",
     "evalue": "No module named 'exam_functions'",
     "output_type": "error",
     "traceback": [
      "\u001b[0;31m---------------------------------------------------------------------------\u001b[0m",
      "\u001b[0;31mModuleNotFoundError\u001b[0m                       Traceback (most recent call last)",
      "Cell \u001b[0;32mIn[1], line 7\u001b[0m\n\u001b[1;32m      5\u001b[0m \u001b[38;5;28;01mimport\u001b[39;00m \u001b[38;5;21;01mpandas\u001b[39;00m \u001b[38;5;28;01mas\u001b[39;00m \u001b[38;5;21;01mpd\u001b[39;00m\n\u001b[1;32m      6\u001b[0m \u001b[38;5;28;01mimport\u001b[39;00m \u001b[38;5;21;01mspacy\u001b[39;00m\n\u001b[0;32m----> 7\u001b[0m \u001b[38;5;28;01mimport\u001b[39;00m \u001b[38;5;21;01mexam_functions\u001b[39;00m \u001b[38;5;28;01mas\u001b[39;00m \u001b[38;5;21;01mfn\u001b[39;00m\n\u001b[1;32m      8\u001b[0m \u001b[38;5;28;01mimport\u001b[39;00m \u001b[38;5;21;01mnltk\u001b[39;00m\n\u001b[1;32m      9\u001b[0m \u001b[38;5;28;01mimport\u001b[39;00m \u001b[38;5;21;01mtensorflow\u001b[39;00m \u001b[38;5;28;01mas\u001b[39;00m \u001b[38;5;21;01mtf\u001b[39;00m\n",
      "\u001b[0;31mModuleNotFoundError\u001b[0m: No module named 'exam_functions'"
     ]
    }
   ],
   "source": [
    "import matplotlib.pyplot as plt\n",
    "import matplotlib as mpl\n",
    "import seaborn as sns\n",
    "import numpy as np\n",
    "import pandas as pd\n",
    "import spacy\n",
    "import exam_functions as fn\n",
    "import nltk\n",
    "import tensorflow as tf\n",
    "from tensorflow.keras import layers\n",
    "from tensorflow.keras import optimizers\n",
    "from tensorflow.keras.models import Sequential\n",
    "\n",
    "from sklearn.metrics import ConfusionMatrixDisplay\n",
    "from sklearn.naive_bayes import MultinomialNB\n",
    "from wordcloud import WordCloud\n",
    "from nltk.probability import FreqDist\n",
    "from sklearn.model_selection import train_test_split\n",
    "from sklearn.feature_extraction.text import CountVectorizer, TfidfVectorizer\n",
    "from sklearn.ensemble import RandomForestClassifier\n",
    "from sklearn.metrics import classification_report\n",
    "from sklearn.pipeline import Pipeline\n",
    "from joblib import dump\n",
    "from sklearn.preprocessing import LabelEncoder"
   ]
  },
  {
   "cell_type": "code",
   "execution_count": null,
   "id": "44acd9ef-8f86-4aa5-8529-d8b5f66d950b",
   "metadata": {
    "colab": {
     "base_uri": "https://localhost:8080/",
     "height": 206
    },
    "id": "44acd9ef-8f86-4aa5-8529-d8b5f66d950b",
    "outputId": "26bc8198-7ca5-44f7-c7f2-038a8b07052c"
   },
   "outputs": [],
   "source": [
    "df= pd.read_csv('part1-aml-belt-exam.csv')\n",
    "df.head()"
   ]
  },
  {
   "cell_type": "code",
   "execution_count": null,
   "id": "57e5978f-91c0-4c74-bee5-ee3c1c76620c",
   "metadata": {
    "colab": {
     "base_uri": "https://localhost:8080/"
    },
    "id": "57e5978f-91c0-4c74-bee5-ee3c1c76620c",
    "outputId": "bc9adb12-5543-46ac-cfd1-8c511ad00a7c"
   },
   "outputs": [],
   "source": [
    "nlp_light = spacy.load(\"en_core_web_sm\", disable=['parser','ner'])\n",
    "nlp_light.pipe_names"
   ]
  },
  {
   "cell_type": "code",
   "execution_count": null,
   "id": "379b894c-5113-41b9-9913-6755d7269ead",
   "metadata": {
    "colab": {
     "base_uri": "https://localhost:8080/",
     "height": 280
    },
    "id": "379b894c-5113-41b9-9913-6755d7269ead",
    "outputId": "741bc7ad-bee5-44ad-f51a-bb6c1c42a645"
   },
   "outputs": [],
   "source": [
    "df['tokens'] = fn.batch_preprocess_texts(df['text'], nlp = nlp_light)\n",
    "df.head()"
   ]
  },
  {
   "cell_type": "code",
   "execution_count": null,
   "id": "939dbd20-fd0e-445a-a223-fe1a18146ad0",
   "metadata": {
    "colab": {
     "base_uri": "https://localhost:8080/",
     "height": 315
    },
    "id": "939dbd20-fd0e-445a-a223-fe1a18146ad0",
    "outputId": "15afa1e1-297a-4dcd-b198-c6eb637ca171"
   },
   "outputs": [],
   "source": [
    "df['lemmas'] = fn.batch_preprocess_texts(df['text'], nlp = nlp_light, use_lemmas = True)\n",
    "df.head()"
   ]
  },
  {
   "cell_type": "code",
   "execution_count": null,
   "id": "c3aa14e1-a715-4e9a-94cd-02a7deeb6983",
   "metadata": {
    "colab": {
     "base_uri": "https://localhost:8080/",
     "height": 178
    },
    "id": "c3aa14e1-a715-4e9a-94cd-02a7deeb6983",
    "outputId": "553c3aad-d6f0-435a-810f-11c14da59149"
   },
   "outputs": [],
   "source": [
    "# Join into strings\n",
    "df['tokens-joined'] = df['tokens'].map(lambda x: \" \".join(x))\n",
    "\n",
    "df['lemmas-joined'] = df['lemmas'].map(lambda x: \" \".join(x))\n",
    "df.head(3)"
   ]
  },
  {
   "cell_type": "markdown",
   "id": "2542a007-ac86-43f7-9008-4099863f78c8",
   "metadata": {
    "id": "2542a007-ac86-43f7-9008-4099863f78c8"
   },
   "source": [
    "**Comparing Groups: Poe vs Dickens**"
   ]
  },
  {
   "cell_type": "code",
   "execution_count": null,
   "id": "e43aa7f9-2492-4e0d-b138-899e880e0c28",
   "metadata": {
    "colab": {
     "base_uri": "https://localhost:8080/"
    },
    "id": "e43aa7f9-2492-4e0d-b138-899e880e0c28",
    "outputId": "678fb2d1-6e2e-4034-eee3-8a4756160e5e"
   },
   "outputs": [],
   "source": [
    "df['author'].unique()"
   ]
  },
  {
   "cell_type": "code",
   "execution_count": null,
   "id": "810ffbe1-8f8f-438a-a3b0-aecaac3c7058",
   "metadata": {
    "colab": {
     "base_uri": "https://localhost:8080/"
    },
    "id": "810ffbe1-8f8f-438a-a3b0-aecaac3c7058",
    "outputId": "99de7f5b-976a-4673-9911-561052c18be8"
   },
   "outputs": [],
   "source": [
    "# Filters\n",
    "filter_poe = df['author'] == 'Poe'\n",
    "filter_dickens = df['author'] == 'Dickens'\n",
    "filter_poe.sum(), filter_dickens.sum()"
   ]
  },
  {
   "cell_type": "code",
   "execution_count": null,
   "id": "fc6ec64e-7314-4e2e-8cd9-3b72da7a3c81",
   "metadata": {
    "colab": {
     "base_uri": "https://localhost:8080/"
    },
    "id": "fc6ec64e-7314-4e2e-8cd9-3b72da7a3c81",
    "outputId": "ec426604-c9e9-4d3d-c5cb-40e53d048f82"
   },
   "outputs": [],
   "source": [
    "# Single string for Poe\n",
    "poe_lemmas = \" \".join( df.loc[filter_poe, 'lemmas-joined'])\n",
    "print(poe_lemmas[:1000],\"\\n\")"
   ]
  },
  {
   "cell_type": "code",
   "execution_count": null,
   "id": "c5ce139a-63b3-452e-821a-bbd7149082fa",
   "metadata": {
    "colab": {
     "base_uri": "https://localhost:8080/"
    },
    "id": "c5ce139a-63b3-452e-821a-bbd7149082fa",
    "outputId": "706b0d28-17bc-498b-d1a4-5ddba5c4b991"
   },
   "outputs": [],
   "source": [
    "# Single string for Dickens\n",
    "dickens_lemmas = \" \".join( df.loc[filter_dickens, 'lemmas-joined'])\n",
    "print(dickens_lemmas[:1000],\"\\n\")"
   ]
  },
  {
   "cell_type": "code",
   "execution_count": null,
   "id": "0197acc0-8b2f-42cd-b4be-83537503ba2f",
   "metadata": {
    "colab": {
     "base_uri": "https://localhost:8080/",
     "height": 720
    },
    "id": "0197acc0-8b2f-42cd-b4be-83537503ba2f",
    "outputId": "d8bbf74c-434b-4578-9078-fd24d4c3374d"
   },
   "outputs": [],
   "source": [
    "# Word clouds\n",
    "poe_cloud = WordCloud(random_state = 42,\n",
    "                      width = 800,\n",
    "                      height = 1000,\n",
    "                      min_word_length = 2, colormap=\"Reds\",\n",
    "                     ).generate(poe_lemmas)\n",
    "dickens_cloud = WordCloud(random_state = 42,\n",
    "                       width = 800,\n",
    "                       height= 1000,\n",
    "                       min_word_length = 2,\n",
    "                       colormap=\"Blues\",\n",
    "                      ).generate(dickens_lemmas)\n",
    "# Plot the wordclouds side by side\n",
    "fig, axes = plt.subplots(ncols=2, figsize=(10, 7))\n",
    "axes[0].imshow(poe_cloud, interpolation='bilinear')\n",
    "axes[0].set_title(\"Poe\")\n",
    "axes[1].imshow(dickens_cloud, interpolation='bilinear')\n",
    "axes[1].set_title(\"Dickens\")\n",
    "[ax.axis('off') for ax in axes]\n",
    "fig.tight_layout();\n",
    "fig.suptitle('Authors', fontsize=20, y=1.05);"
   ]
  },
  {
   "cell_type": "code",
   "execution_count": null,
   "id": "1f29fa1a-1195-4941-bce2-645b3b87d6a7",
   "metadata": {
    "colab": {
     "base_uri": "https://localhost:8080/"
    },
    "id": "1f29fa1a-1195-4941-bce2-645b3b87d6a7",
    "outputId": "cc503210-5ecd-4c05-a05d-83219f5b6775"
   },
   "outputs": [],
   "source": [
    "poe_tokens_exploded_list = df.loc[filter_poe, 'tokens'].explode().astype(str).to_list()\n",
    "poe_tokens_exploded_list[:20]"
   ]
  },
  {
   "cell_type": "code",
   "execution_count": null,
   "id": "0cc681a6-3786-4881-a5c2-878c8888c0ef",
   "metadata": {
    "colab": {
     "base_uri": "https://localhost:8080/"
    },
    "id": "0cc681a6-3786-4881-a5c2-878c8888c0ef",
    "outputId": "1abce26e-91d8-4533-ff10-6e24eec5eb36"
   },
   "outputs": [],
   "source": [
    "dickens_tokens_exploded_list = df.loc[filter_dickens, 'tokens'].explode().astype(str).to_list()\n",
    "dickens_tokens_exploded_list[:20]"
   ]
  },
  {
   "cell_type": "markdown",
   "id": "05f33791-618e-4ee2-acde-5332a6f43290",
   "metadata": {
    "id": "05f33791-618e-4ee2-acde-5332a6f43290"
   },
   "source": [
    "**Bigrams**"
   ]
  },
  {
   "cell_type": "code",
   "execution_count": null,
   "id": "d4a7afda-fdf8-4012-af21-fa6ac5c8e7dd",
   "metadata": {
    "id": "d4a7afda-fdf8-4012-af21-fa6ac5c8e7dd"
   },
   "outputs": [],
   "source": [
    "bigram_measures = nltk.collocations.BigramAssocMeasures()"
   ]
  },
  {
   "cell_type": "code",
   "execution_count": null,
   "id": "38225374-c491-4853-9ce6-16d2c010380f",
   "metadata": {
    "colab": {
     "base_uri": "https://localhost:8080/"
    },
    "id": "38225374-c491-4853-9ce6-16d2c010380f",
    "outputId": "c34fd1e2-396d-45ba-8dcf-c6e033eda57c"
   },
   "outputs": [],
   "source": [
    "# Poe bigrams\n",
    "bigram_finder_high = nltk.BigramCollocationFinder.from_words(poe_tokens_exploded_list)\n",
    "\n",
    "bigrams_scores_poe = bigram_finder_high.score_ngrams(bigram_measures.raw_freq)\n",
    "bigrams_scores_poe[:20]"
   ]
  },
  {
   "cell_type": "code",
   "execution_count": null,
   "id": "9f8057a6-5ad8-4162-9a78-6262f8d0dbe0",
   "metadata": {
    "colab": {
     "base_uri": "https://localhost:8080/"
    },
    "id": "9f8057a6-5ad8-4162-9a78-6262f8d0dbe0",
    "outputId": "03a4cce5-b77a-4397-8583-8d024e19e107"
   },
   "outputs": [],
   "source": [
    "# Dickens bigrams\n",
    "bigram_finder_dickens = nltk.BigramCollocationFinder.from_words(dickens_tokens_exploded_list)\n",
    "\n",
    "bigrams_scores_dickens = bigram_finder_dickens.score_ngrams(bigram_measures.raw_freq)\n",
    "bigrams_scores_dickens[:20]"
   ]
  },
  {
   "cell_type": "markdown",
   "id": "4b15b09a-063e-4436-ae57-421443ad41d3",
   "metadata": {
    "id": "4b15b09a-063e-4436-ae57-421443ad41d3"
   },
   "source": [
    "**Text Classification - Machine Learning**"
   ]
  },
  {
   "cell_type": "code",
   "execution_count": null,
   "id": "c166501a-569f-44de-8343-eb62933bce97",
   "metadata": {
    "id": "c166501a-569f-44de-8343-eb62933bce97"
   },
   "outputs": [],
   "source": [
    "X = df['text']\n",
    "y = df['author']"
   ]
  },
  {
   "cell_type": "code",
   "execution_count": null,
   "id": "e315835a-5638-4099-86cb-32a4d285dea7",
   "metadata": {
    "id": "e315835a-5638-4099-86cb-32a4d285dea7"
   },
   "outputs": [],
   "source": [
    "X_train, X_test, y_train, y_test = train_test_split(X,y,test_size=0.25,\n",
    "                                                    random_state=321)"
   ]
  },
  {
   "cell_type": "code",
   "execution_count": null,
   "id": "163d8d23-44a4-4179-85cf-bfb129f7cb1d",
   "metadata": {
    "colab": {
     "base_uri": "https://localhost:8080/",
     "height": 75
    },
    "id": "163d8d23-44a4-4179-85cf-bfb129f7cb1d",
    "outputId": "be717963-e99d-4a6e-d4b0-5b001afdba4a"
   },
   "outputs": [],
   "source": [
    "# Vectorizer\n",
    "count_vectorizer = CountVectorizer()\n",
    "count_vectorizer.fit(X_train)"
   ]
  },
  {
   "cell_type": "code",
   "execution_count": null,
   "id": "f073d149-c62b-4c4b-9ff7-beec13be4319",
   "metadata": {
    "id": "f073d149-c62b-4c4b-9ff7-beec13be4319"
   },
   "outputs": [],
   "source": [
    "X_train_counts = count_vectorizer.transform(X_train)\n",
    "X_test_counts = count_vectorizer.transform(X_test)"
   ]
  },
  {
   "cell_type": "code",
   "execution_count": null,
   "id": "037e6ae8-0ed5-43da-b1ac-8cb72a494262",
   "metadata": {
    "id": "037e6ae8-0ed5-43da-b1ac-8cb72a494262"
   },
   "outputs": [],
   "source": [
    "def classification_metrics(y_true, y_pred, label='',\n",
    "                           output_dict=False, figsize=(8,4),\n",
    "                           normalize='true', cmap='Blues',\n",
    "                           colorbar=False,values_format=\".2f\"):\n",
    "    \"\"\"Modified version of classification metrics function from Intro to Machine Learning.\n",
    "    Updates:\n",
    "    - Reversed raw counts confusion matrix cmap  (so darker==more).\n",
    "    - Added arg for normalized confusion matrix values_format\n",
    "    \"\"\"\n",
    "    # Get the classification report\n",
    "    report = classification_report(y_true, y_pred)\n",
    "\n",
    "    ## Print header and report\n",
    "    header = \"-\"*70\n",
    "    print(header, f\" Classification Metrics: {label}\", header, sep='\\n')\n",
    "    print(report)\n",
    "\n",
    "    ## CONFUSION MATRICES SUBPLOTS\n",
    "    fig, axes = plt.subplots(ncols=2, figsize=figsize)\n",
    "\n",
    "    # Create a confusion matrix  of raw counts (left subplot)\n",
    "    ConfusionMatrixDisplay.from_predictions(y_true, y_pred,\n",
    "                                            normalize=None,\n",
    "                                            cmap='gist_gray_r',# Updated cmap\n",
    "                                            values_format=\"d\",\n",
    "                                            colorbar=colorbar,\n",
    "                                            ax = axes[0]);\n",
    "    axes[0].set_title(\"Raw Counts\")\n",
    "\n",
    "    # Create a confusion matrix with the data with normalize argument\n",
    "    ConfusionMatrixDisplay.from_predictions(y_true, y_pred,\n",
    "                                            normalize=normalize,\n",
    "                                            cmap=cmap,\n",
    "                                            values_format=values_format, #New arg\n",
    "                                            colorbar=colorbar,\n",
    "                                            ax = axes[1]);\n",
    "    axes[1].set_title(\"Normalized Confusion Matrix\")\n",
    "\n",
    "    # Adjust layout and show figure\n",
    "    fig.tight_layout()\n",
    "    plt.show()\n",
    "\n",
    "    # Return dictionary of classification_report\n",
    "    if output_dict==True:\n",
    "        report_dict = classification_report(y_true, y_pred, output_dict=True)\n",
    "        return report_dict\n",
    "\n",
    "\n",
    "def evaluate_classification(model, X_train, y_train, X_test, y_test,\n",
    "                         figsize=(6,4), normalize='true', output_dict = False,\n",
    "                            cmap_train='Blues', cmap_test=\"Reds\",colorbar=False):\n",
    "  # Get predictions for training data\n",
    "  y_train_pred = model.predict(X_train)\n",
    "  # Call the helper function to obtain regression metrics for training data\n",
    "  results_train = classification_metrics(y_train, y_train_pred, #verbose = verbose,\n",
    "                                     output_dict=True, figsize=figsize,\n",
    "                                         colorbar=colorbar, cmap=cmap_train,\n",
    "                                     label='Training Data')\n",
    "  print()\n",
    "  # Get predictions for test data\n",
    "  y_test_pred = model.predict(X_test)\n",
    "  # Call the helper function to obtain regression metrics for test data\n",
    "  results_test = classification_metrics(y_test, y_test_pred, #verbose = verbose,\n",
    "                                  output_dict=True,figsize=figsize,\n",
    "                                         colorbar=colorbar, cmap=cmap_test,\n",
    "                                    label='Test Data' )\n",
    "  if output_dict == True:\n",
    "    # Store results in a dataframe if ouput_frame is True\n",
    "    results_dict = {'train':results_train,\n",
    "                    'test': results_test}\n",
    "    return results_dict"
   ]
  },
  {
   "cell_type": "code",
   "execution_count": null,
   "id": "5e556af2-2b47-47bd-9aa9-1b9ed8a0b0a0",
   "metadata": {
    "colab": {
     "base_uri": "https://localhost:8080/",
     "height": 1000
    },
    "id": "5e556af2-2b47-47bd-9aa9-1b9ed8a0b0a0",
    "outputId": "18e9ecc2-77a8-45b5-ce1a-888d9e0db291"
   },
   "outputs": [],
   "source": [
    "clf = RandomForestClassifier(random_state=42)\n",
    "clf.fit(X_train_counts, y_train)\n",
    "# metrics\n",
    "evaluate_classification(clf, X_train_counts, y_train, X_test_counts, y_test)"
   ]
  },
  {
   "cell_type": "code",
   "execution_count": null,
   "id": "874ded1d-4a54-44cc-a3a5-c58b847e344c",
   "metadata": {
    "colab": {
     "base_uri": "https://localhost:8080/",
     "height": 126
    },
    "id": "874ded1d-4a54-44cc-a3a5-c58b847e344c",
    "outputId": "d9fedee3-9571-42fa-a637-f09fe1c63c0a"
   },
   "outputs": [],
   "source": [
    "# Model Pipeline\n",
    "clf_pipe = Pipeline([('vectorizer', CountVectorizer(stop_words='english')),\n",
    "                     ('clf',RandomForestClassifier(random_state=42))])\n",
    "clf_pipe"
   ]
  },
  {
   "cell_type": "code",
   "execution_count": null,
   "id": "15a96b3c-db1e-4613-8060-95c57bf83a9e",
   "metadata": {
    "colab": {
     "base_uri": "https://localhost:8080/",
     "height": 1000
    },
    "id": "15a96b3c-db1e-4613-8060-95c57bf83a9e",
    "outputId": "6e72a9ed-f63a-4a6b-f493-8ed006b46be1"
   },
   "outputs": [],
   "source": [
    "clf_pipe.fit(X_train, y_train)\n",
    "\n",
    "evaluate_classification(clf_pipe, X_train,y_train, X_test, y_test)"
   ]
  },
  {
   "cell_type": "code",
   "execution_count": null,
   "id": "d75a9dee-f1e0-4319-83c9-160f5f60b13f",
   "metadata": {
    "id": "d75a9dee-f1e0-4319-83c9-160f5f60b13f"
   },
   "outputs": [],
   "source": [
    "#dump(clf_pipe, 'models/model_pipeline.joblib')"
   ]
  },
  {
   "cell_type": "markdown",
   "id": "FVt-BbQqnnT9",
   "metadata": {
    "id": "FVt-BbQqnnT9"
   },
   "source": [
    "**Text Classification - Deep NLP**"
   ]
  },
  {
   "cell_type": "code",
   "execution_count": null,
   "id": "a82e4a5c-3d6e-49f4-828c-cb1041f33908",
   "metadata": {
    "id": "a82e4a5c-3d6e-49f4-828c-cb1041f33908"
   },
   "outputs": [],
   "source": [
    "batch_size = 32"
   ]
  },
  {
   "cell_type": "code",
   "execution_count": null,
   "id": "FEtbQ1xAno7y",
   "metadata": {
    "colab": {
     "base_uri": "https://localhost:8080/"
    },
    "id": "FEtbQ1xAno7y",
    "outputId": "1c0a4c7e-0c5c-4244-b9e8-f823a09ad9ed"
   },
   "outputs": [],
   "source": [
    "df['author'].value_counts(normalize = True)"
   ]
  },
  {
   "cell_type": "code",
   "execution_count": null,
   "id": "hGWMbVwrpqkw",
   "metadata": {
    "colab": {
     "base_uri": "https://localhost:8080/",
     "height": 597
    },
    "id": "hGWMbVwrpqkw",
    "outputId": "720828cb-a435-4b04-8e7e-47d03dbac155"
   },
   "outputs": [],
   "source": [
    "label_encoder = LabelEncoder()\n",
    "df['author_encoded'] = label_encoder.fit_transform(df['author'])\n",
    "df"
   ]
  },
  {
   "cell_type": "code",
   "execution_count": null,
   "id": "XO6R40saqC5o",
   "metadata": {
    "colab": {
     "base_uri": "https://localhost:8080/"
    },
    "id": "XO6R40saqC5o",
    "outputId": "66448917-e80a-4cfe-9dba-b02a516689a2"
   },
   "outputs": [],
   "source": [
    "df['paragraph_length'] = df['text'].apply(len)\n",
    "df.max()"
   ]
  },
  {
   "cell_type": "code",
   "execution_count": null,
   "id": "8VX4K_Usq6Vs",
   "metadata": {
    "colab": {
     "base_uri": "https://localhost:8080/",
     "height": 597
    },
    "id": "8VX4K_Usq6Vs",
    "outputId": "41348a11-f307-4aca-d6bb-ba8e23727019"
   },
   "outputs": [],
   "source": [
    "df"
   ]
  },
  {
   "cell_type": "code",
   "execution_count": null,
   "id": "a5o2jkfEy9eW",
   "metadata": {
    "colab": {
     "base_uri": "https://localhost:8080/"
    },
    "id": "a5o2jkfEy9eW",
    "outputId": "a199e5de-d64e-4406-d09d-99de23a479d8"
   },
   "outputs": [],
   "source": [
    "X = df['text'].values\n",
    "X"
   ]
  },
  {
   "cell_type": "code",
   "execution_count": null,
   "id": "iLqCebxTzKv7",
   "metadata": {
    "colab": {
     "base_uri": "https://localhost:8080/"
    },
    "id": "iLqCebxTzKv7",
    "outputId": "3ec67b7c-5d4f-481a-e873-948f5f95db52"
   },
   "outputs": [],
   "source": [
    "y= df['author_encoded']\n",
    "y.value_counts()"
   ]
  },
  {
   "cell_type": "code",
   "execution_count": null,
   "id": "ggiTnSxBzXip",
   "metadata": {
    "colab": {
     "base_uri": "https://localhost:8080/"
    },
    "id": "ggiTnSxBzXip",
    "outputId": "053ffb4c-a875-4312-f5de-13ab8fa4a77b"
   },
   "outputs": [],
   "source": [
    "classes = y.unique()\n",
    "classes"
   ]
  },
  {
   "cell_type": "code",
   "execution_count": null,
   "id": "lOzWWCzgq22H",
   "metadata": {
    "id": "lOzWWCzgq22H"
   },
   "outputs": [],
   "source": [
    "SEQUENCE_LENGTH = 71\n",
    "EMBED_DIM = 100\n",
    "\n",
    "# Text Vectorization layer\n",
    "sequence_vectorizer = tf.keras.layers.TextVectorization(\n",
    "    standardize=\"lower_and_strip_punctuation\",\n",
    "    output_mode=\"int\",\n",
    "    output_sequence_length=SEQUENCE_LENGTH)"
   ]
  },
  {
   "cell_type": "code",
   "execution_count": null,
   "id": "r7iDUvnIwxF_",
   "metadata": {
    "colab": {
     "base_uri": "https://localhost:8080/"
    },
    "id": "r7iDUvnIwxF_",
    "outputId": "524f5692-3298-4129-88ad-9d49db36a598"
   },
   "outputs": [],
   "source": [
    "VOCAB_SIZE = sequence_vectorizer.vocabulary_size()\n",
    "VOCAB_SIZE"
   ]
  },
  {
   "cell_type": "code",
   "execution_count": null,
   "id": "Hva6TSnwvgx4",
   "metadata": {
    "id": "Hva6TSnwvgx4"
   },
   "outputs": [],
   "source": [
    "def build_gru_model_bi_pool(text_vectorization_layer, VOCAB_SIZE, EMBED_DIM, SEQUENCE_LENGTH, classes):\n",
    "    model = Sequential([\n",
    "        text_vectorization_layer,\n",
    "        layers.Embedding(input_dim=VOCAB_SIZE, output_dim=EMBED_DIM, input_length=SEQUENCE_LENGTH),\n",
    "        layers.Bidirectional(layers.GRU(128, return_sequences=True)),\n",
    "        layers.GlobalMaxPooling1D(),\n",
    "        layers.Dense(len(classes), activation='softmax')\n",
    "    ])\n",
    "\n",
    "    optimizer = optimizers.Adam()\n",
    "    model.compile(optimizer=optimizer,\n",
    "                  loss='sparse_categorical_crossentropy',\n",
    "                  metrics=['accuracy'])\n",
    "\n",
    "    return model"
   ]
  },
  {
   "cell_type": "code",
   "execution_count": null,
   "id": "hsT4T8MO1tIL",
   "metadata": {
    "id": "hsT4T8MO1tIL"
   },
   "outputs": [],
   "source": [
    "# def get_callbacks(patience=3, monitor='val_accuracy'):\n",
    "#     early_stop = tf.keras.callbacks.EarlyStopping(patience=patience, monitor=monitor)\n",
    "#     return [early_stop]"
   ]
  },
  {
   "cell_type": "code",
   "execution_count": null,
   "id": "NC3Ov_iSu9F-",
   "metadata": {
    "colab": {
     "base_uri": "https://localhost:8080/",
     "height": 454
    },
    "id": "NC3Ov_iSu9F-",
    "outputId": "5810d1c2-3673-4b9e-84e3-4769978532ac"
   },
   "outputs": [],
   "source": [
    "# Assuming VOCAB_SIZE, EMBED_DIM, SEQUENCE_LENGTH, and classes are defined\n",
    "model = build_gru_model_bi_pool(sequence_vectorizer, VOCAB_SIZE, EMBED_DIM, SEQUENCE_LENGTH, classes)\n",
    "\n",
    "# Build the model before printing the summary\n",
    "model.build(input_shape=(None, SEQUENCE_LENGTH))\n",
    "\n",
    "# Print model summary\n",
    "model.summary()"
   ]
  },
  {
   "cell_type": "code",
   "execution_count": null,
   "id": "R0_c6play8Dt",
   "metadata": {
    "id": "R0_c6play8Dt"
   },
   "outputs": [],
   "source": []
  },
  {
   "cell_type": "code",
   "execution_count": null,
   "id": "deCmIij9wKaa",
   "metadata": {
    "id": "deCmIij9wKaa"
   },
   "outputs": [],
   "source": []
  }
 ],
 "metadata": {
  "colab": {
   "provenance": []
  },
  "kernelspec": {
   "display_name": "Python (dojo-env)",
   "language": "python",
   "name": "dojo-env"
  },
  "language_info": {
   "codemirror_mode": {
    "name": "ipython",
    "version": 3
   },
   "file_extension": ".py",
   "mimetype": "text/x-python",
   "name": "python",
   "nbconvert_exporter": "python",
   "pygments_lexer": "ipython3",
   "version": "3.10.10"
  }
 },
 "nbformat": 4,
 "nbformat_minor": 5
}
