{
 "cells": [
  {
   "cell_type": "code",
   "execution_count": 1,
   "id": "c5b59868-f664-43f4-891c-b95db017c301",
   "metadata": {},
   "outputs": [],
   "source": [
    "import matplotlib.pyplot as plt\n",
    "import matplotlib as mpl\n",
    "import seaborn as sns\n",
    "import numpy as np\n",
    "import pandas as pd\n",
    "import spacy\n",
    "import exam_functions as fn"
   ]
  },
  {
   "cell_type": "code",
   "execution_count": 2,
   "id": "44acd9ef-8f86-4aa5-8529-d8b5f66d950b",
   "metadata": {},
   "outputs": [
    {
     "data": {
      "text/html": [
       "<div>\n",
       "<style scoped>\n",
       "    .dataframe tbody tr th:only-of-type {\n",
       "        vertical-align: middle;\n",
       "    }\n",
       "\n",
       "    .dataframe tbody tr th {\n",
       "        vertical-align: top;\n",
       "    }\n",
       "\n",
       "    .dataframe thead th {\n",
       "        text-align: right;\n",
       "    }\n",
       "</style>\n",
       "<table border=\"1\" class=\"dataframe\">\n",
       "  <thead>\n",
       "    <tr style=\"text-align: right;\">\n",
       "      <th></th>\n",
       "      <th>author</th>\n",
       "      <th>text</th>\n",
       "    </tr>\n",
       "  </thead>\n",
       "  <tbody>\n",
       "    <tr>\n",
       "      <th>0</th>\n",
       "      <td>Poe</td>\n",
       "      <td>additional information either on Monday ...</td>\n",
       "    </tr>\n",
       "    <tr>\n",
       "      <th>1</th>\n",
       "      <td>Poe</td>\n",
       "      <td>teeth. Not a speck on their surface—not ...</td>\n",
       "    </tr>\n",
       "    <tr>\n",
       "      <th>2</th>\n",
       "      <td>Dickens</td>\n",
       "      <td>“Harry? As soon as he had seen your friend her...</td>\n",
       "    </tr>\n",
       "    <tr>\n",
       "      <th>3</th>\n",
       "      <td>Poe</td>\n",
       "      <td>thought—to make sure that my vision had ...</td>\n",
       "    </tr>\n",
       "    <tr>\n",
       "      <th>4</th>\n",
       "      <td>Poe</td>\n",
       "      <td>the flowers. No guile disguised the ferv...</td>\n",
       "    </tr>\n",
       "  </tbody>\n",
       "</table>\n",
       "</div>"
      ],
      "text/plain": [
       "    author                                               text\n",
       "0      Poe        additional information either on Monday ...\n",
       "1      Poe        teeth. Not a speck on their surface—not ...\n",
       "2  Dickens  “Harry? As soon as he had seen your friend her...\n",
       "3      Poe        thought—to make sure that my vision had ...\n",
       "4      Poe        the flowers. No guile disguised the ferv..."
      ]
     },
     "execution_count": 2,
     "metadata": {},
     "output_type": "execute_result"
    }
   ],
   "source": [
    "df= pd.read_csv('part1-aml-belt-exam.csv')\n",
    "df.head()"
   ]
  },
  {
   "cell_type": "code",
   "execution_count": 3,
   "id": "57e5978f-91c0-4c74-bee5-ee3c1c76620c",
   "metadata": {},
   "outputs": [
    {
     "data": {
      "text/plain": [
       "['tok2vec', 'tagger', 'attribute_ruler', 'lemmatizer']"
      ]
     },
     "execution_count": 3,
     "metadata": {},
     "output_type": "execute_result"
    }
   ],
   "source": [
    "nlp_light = spacy.load(\"en_core_web_sm\", disable=['parser','ner'])\n",
    "nlp_light.pipe_names"
   ]
  },
  {
   "cell_type": "code",
   "execution_count": 5,
   "id": "379b894c-5113-41b9-9913-6755d7269ead",
   "metadata": {},
   "outputs": [
    {
     "name": "stderr",
     "output_type": "stream",
     "text": [
      "3551it [00:10, 353.15it/s] \n"
     ]
    },
    {
     "data": {
      "text/html": [
       "<div>\n",
       "<style scoped>\n",
       "    .dataframe tbody tr th:only-of-type {\n",
       "        vertical-align: middle;\n",
       "    }\n",
       "\n",
       "    .dataframe tbody tr th {\n",
       "        vertical-align: top;\n",
       "    }\n",
       "\n",
       "    .dataframe thead th {\n",
       "        text-align: right;\n",
       "    }\n",
       "</style>\n",
       "<table border=\"1\" class=\"dataframe\">\n",
       "  <thead>\n",
       "    <tr style=\"text-align: right;\">\n",
       "      <th></th>\n",
       "      <th>author</th>\n",
       "      <th>text</th>\n",
       "      <th>tokens</th>\n",
       "    </tr>\n",
       "  </thead>\n",
       "  <tbody>\n",
       "    <tr>\n",
       "      <th>0</th>\n",
       "      <td>Poe</td>\n",
       "      <td>additional information either on Monday ...</td>\n",
       "      <td>[additional, information, monday, course]</td>\n",
       "    </tr>\n",
       "    <tr>\n",
       "      <th>1</th>\n",
       "      <td>Poe</td>\n",
       "      <td>teeth. Not a speck on their surface—not ...</td>\n",
       "      <td>[teeth, speck, surface, shade]</td>\n",
       "    </tr>\n",
       "    <tr>\n",
       "      <th>2</th>\n",
       "      <td>Dickens</td>\n",
       "      <td>“Harry? As soon as he had seen your friend her...</td>\n",
       "      <td>[harry, soon, seen, friend, safe, coach]</td>\n",
       "    </tr>\n",
       "    <tr>\n",
       "      <th>3</th>\n",
       "      <td>Poe</td>\n",
       "      <td>thought—to make sure that my vision had ...</td>\n",
       "      <td>[thought, sure, vision, deceived, calm]</td>\n",
       "    </tr>\n",
       "    <tr>\n",
       "      <th>4</th>\n",
       "      <td>Poe</td>\n",
       "      <td>the flowers. No guile disguised the ferv...</td>\n",
       "      <td>[flowers, guile, disguised, fervor, love, anim...</td>\n",
       "    </tr>\n",
       "  </tbody>\n",
       "</table>\n",
       "</div>"
      ],
      "text/plain": [
       "    author                                               text  \\\n",
       "0      Poe        additional information either on Monday ...   \n",
       "1      Poe        teeth. Not a speck on their surface—not ...   \n",
       "2  Dickens  “Harry? As soon as he had seen your friend her...   \n",
       "3      Poe        thought—to make sure that my vision had ...   \n",
       "4      Poe        the flowers. No guile disguised the ferv...   \n",
       "\n",
       "                                              tokens  \n",
       "0          [additional, information, monday, course]  \n",
       "1                     [teeth, speck, surface, shade]  \n",
       "2           [harry, soon, seen, friend, safe, coach]  \n",
       "3            [thought, sure, vision, deceived, calm]  \n",
       "4  [flowers, guile, disguised, fervor, love, anim...  "
      ]
     },
     "execution_count": 5,
     "metadata": {},
     "output_type": "execute_result"
    }
   ],
   "source": [
    "df['tokens'] = fn.batch_preprocess_texts(df['text'], nlp = nlp_light)\n",
    "df.head()"
   ]
  },
  {
   "cell_type": "code",
   "execution_count": 8,
   "id": "939dbd20-fd0e-445a-a223-fe1a18146ad0",
   "metadata": {},
   "outputs": [
    {
     "name": "stderr",
     "output_type": "stream",
     "text": [
      "3551it [00:10, 352.70it/s] \n"
     ]
    },
    {
     "data": {
      "text/html": [
       "<div>\n",
       "<style scoped>\n",
       "    .dataframe tbody tr th:only-of-type {\n",
       "        vertical-align: middle;\n",
       "    }\n",
       "\n",
       "    .dataframe tbody tr th {\n",
       "        vertical-align: top;\n",
       "    }\n",
       "\n",
       "    .dataframe thead th {\n",
       "        text-align: right;\n",
       "    }\n",
       "</style>\n",
       "<table border=\"1\" class=\"dataframe\">\n",
       "  <thead>\n",
       "    <tr style=\"text-align: right;\">\n",
       "      <th></th>\n",
       "      <th>author</th>\n",
       "      <th>text</th>\n",
       "      <th>tokens</th>\n",
       "      <th>lemmas</th>\n",
       "    </tr>\n",
       "  </thead>\n",
       "  <tbody>\n",
       "    <tr>\n",
       "      <th>0</th>\n",
       "      <td>Poe</td>\n",
       "      <td>additional information either on Monday ...</td>\n",
       "      <td>[additional, information, monday, course]</td>\n",
       "      <td>[additional, information, monday, course]</td>\n",
       "    </tr>\n",
       "    <tr>\n",
       "      <th>1</th>\n",
       "      <td>Poe</td>\n",
       "      <td>teeth. Not a speck on their surface—not ...</td>\n",
       "      <td>[teeth, speck, surface, shade]</td>\n",
       "      <td>[tooth, speck, surface, shade]</td>\n",
       "    </tr>\n",
       "    <tr>\n",
       "      <th>2</th>\n",
       "      <td>Dickens</td>\n",
       "      <td>“Harry? As soon as he had seen your friend her...</td>\n",
       "      <td>[harry, soon, seen, friend, safe, coach]</td>\n",
       "      <td>[harry, soon, see, friend, safe, coach]</td>\n",
       "    </tr>\n",
       "    <tr>\n",
       "      <th>3</th>\n",
       "      <td>Poe</td>\n",
       "      <td>thought—to make sure that my vision had ...</td>\n",
       "      <td>[thought, sure, vision, deceived, calm]</td>\n",
       "      <td>[think, sure, vision, deceive, calm]</td>\n",
       "    </tr>\n",
       "    <tr>\n",
       "      <th>4</th>\n",
       "      <td>Poe</td>\n",
       "      <td>the flowers. No guile disguised the ferv...</td>\n",
       "      <td>[flowers, guile, disguised, fervor, love, anim...</td>\n",
       "      <td>[flower, guile, disguise, fervor, love, animate]</td>\n",
       "    </tr>\n",
       "  </tbody>\n",
       "</table>\n",
       "</div>"
      ],
      "text/plain": [
       "    author                                               text  \\\n",
       "0      Poe        additional information either on Monday ...   \n",
       "1      Poe        teeth. Not a speck on their surface—not ...   \n",
       "2  Dickens  “Harry? As soon as he had seen your friend her...   \n",
       "3      Poe        thought—to make sure that my vision had ...   \n",
       "4      Poe        the flowers. No guile disguised the ferv...   \n",
       "\n",
       "                                              tokens  \\\n",
       "0          [additional, information, monday, course]   \n",
       "1                     [teeth, speck, surface, shade]   \n",
       "2           [harry, soon, seen, friend, safe, coach]   \n",
       "3            [thought, sure, vision, deceived, calm]   \n",
       "4  [flowers, guile, disguised, fervor, love, anim...   \n",
       "\n",
       "                                             lemmas  \n",
       "0         [additional, information, monday, course]  \n",
       "1                    [tooth, speck, surface, shade]  \n",
       "2           [harry, soon, see, friend, safe, coach]  \n",
       "3              [think, sure, vision, deceive, calm]  \n",
       "4  [flower, guile, disguise, fervor, love, animate]  "
      ]
     },
     "execution_count": 8,
     "metadata": {},
     "output_type": "execute_result"
    }
   ],
   "source": [
    "df['lemmas'] = fn.batch_preprocess_texts(df['text'], nlp = nlp_light, use_lemmas = True)\n",
    "df.head()"
   ]
  },
  {
   "cell_type": "code",
   "execution_count": 10,
   "id": "c3aa14e1-a715-4e9a-94cd-02a7deeb6983",
   "metadata": {},
   "outputs": [
    {
     "data": {
      "text/html": [
       "<div>\n",
       "<style scoped>\n",
       "    .dataframe tbody tr th:only-of-type {\n",
       "        vertical-align: middle;\n",
       "    }\n",
       "\n",
       "    .dataframe tbody tr th {\n",
       "        vertical-align: top;\n",
       "    }\n",
       "\n",
       "    .dataframe thead th {\n",
       "        text-align: right;\n",
       "    }\n",
       "</style>\n",
       "<table border=\"1\" class=\"dataframe\">\n",
       "  <thead>\n",
       "    <tr style=\"text-align: right;\">\n",
       "      <th></th>\n",
       "      <th>author</th>\n",
       "      <th>text</th>\n",
       "      <th>tokens</th>\n",
       "      <th>lemmas</th>\n",
       "      <th>tokens-joined</th>\n",
       "      <th>lemmas-joined</th>\n",
       "    </tr>\n",
       "  </thead>\n",
       "  <tbody>\n",
       "    <tr>\n",
       "      <th>0</th>\n",
       "      <td>Poe</td>\n",
       "      <td>additional information either on Monday ...</td>\n",
       "      <td>[additional, information, monday, course]</td>\n",
       "      <td>[additional, information, monday, course]</td>\n",
       "      <td>additional information monday course</td>\n",
       "      <td>additional information monday course</td>\n",
       "    </tr>\n",
       "    <tr>\n",
       "      <th>1</th>\n",
       "      <td>Poe</td>\n",
       "      <td>teeth. Not a speck on their surface—not ...</td>\n",
       "      <td>[teeth, speck, surface, shade]</td>\n",
       "      <td>[tooth, speck, surface, shade]</td>\n",
       "      <td>teeth speck surface shade</td>\n",
       "      <td>tooth speck surface shade</td>\n",
       "    </tr>\n",
       "    <tr>\n",
       "      <th>2</th>\n",
       "      <td>Dickens</td>\n",
       "      <td>“Harry? As soon as he had seen your friend her...</td>\n",
       "      <td>[harry, soon, seen, friend, safe, coach]</td>\n",
       "      <td>[harry, soon, see, friend, safe, coach]</td>\n",
       "      <td>harry soon seen friend safe coach</td>\n",
       "      <td>harry soon see friend safe coach</td>\n",
       "    </tr>\n",
       "  </tbody>\n",
       "</table>\n",
       "</div>"
      ],
      "text/plain": [
       "    author                                               text  \\\n",
       "0      Poe        additional information either on Monday ...   \n",
       "1      Poe        teeth. Not a speck on their surface—not ...   \n",
       "2  Dickens  “Harry? As soon as he had seen your friend her...   \n",
       "\n",
       "                                      tokens  \\\n",
       "0  [additional, information, monday, course]   \n",
       "1             [teeth, speck, surface, shade]   \n",
       "2   [harry, soon, seen, friend, safe, coach]   \n",
       "\n",
       "                                      lemmas  \\\n",
       "0  [additional, information, monday, course]   \n",
       "1             [tooth, speck, surface, shade]   \n",
       "2    [harry, soon, see, friend, safe, coach]   \n",
       "\n",
       "                          tokens-joined                         lemmas-joined  \n",
       "0  additional information monday course  additional information monday course  \n",
       "1             teeth speck surface shade             tooth speck surface shade  \n",
       "2     harry soon seen friend safe coach      harry soon see friend safe coach  "
      ]
     },
     "execution_count": 10,
     "metadata": {},
     "output_type": "execute_result"
    }
   ],
   "source": [
    "# Join into strings \n",
    "df['tokens-joined'] = df['tokens'].map(lambda x: \" \".join(x))\n",
    "\n",
    "df['lemmas-joined'] = df['lemmas'].map(lambda x: \" \".join(x))\n",
    "df.head(3)"
   ]
  },
  {
   "cell_type": "markdown",
   "id": "2542a007-ac86-43f7-9008-4099863f78c8",
   "metadata": {},
   "source": [
    "**Comparing Groups: Poe vs Dickens**"
   ]
  },
  {
   "cell_type": "code",
   "execution_count": 16,
   "id": "e43aa7f9-2492-4e0d-b138-899e880e0c28",
   "metadata": {},
   "outputs": [
    {
     "data": {
      "text/plain": [
       "array(['Poe', 'Dickens'], dtype=object)"
      ]
     },
     "execution_count": 16,
     "metadata": {},
     "output_type": "execute_result"
    }
   ],
   "source": [
    "df['author'].unique()"
   ]
  },
  {
   "cell_type": "code",
   "execution_count": 19,
   "id": "810ffbe1-8f8f-438a-a3b0-aecaac3c7058",
   "metadata": {},
   "outputs": [
    {
     "data": {
      "text/plain": [
       "(2075, 1476)"
      ]
     },
     "execution_count": 19,
     "metadata": {},
     "output_type": "execute_result"
    }
   ],
   "source": [
    "# Filters\n",
    "filter_poe = df['author'] == 'Poe'\n",
    "filter_dickens = df['author'] == 'Dickens'\n",
    "filter_poe.sum(), filter_dickens.sum()"
   ]
  },
  {
   "cell_type": "code",
   "execution_count": null,
   "id": "fc6ec64e-7314-4e2e-8cd9-3b72da7a3c81",
   "metadata": {},
   "outputs": [],
   "source": []
  }
 ],
 "metadata": {
  "kernelspec": {
   "display_name": "Python (dojo-env)",
   "language": "python",
   "name": "dojo-env"
  },
  "language_info": {
   "codemirror_mode": {
    "name": "ipython",
    "version": 3
   },
   "file_extension": ".py",
   "mimetype": "text/x-python",
   "name": "python",
   "nbconvert_exporter": "python",
   "pygments_lexer": "ipython3",
   "version": "3.10.10"
  }
 },
 "nbformat": 4,
 "nbformat_minor": 5
}
