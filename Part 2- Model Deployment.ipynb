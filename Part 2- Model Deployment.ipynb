{
 "cells": [
  {
   "cell_type": "code",
   "execution_count": 1,
   "id": "daf9a8fc-75b8-4a07-99f0-a56cc44e16dc",
   "metadata": {},
   "outputs": [],
   "source": [
    "import pandas as pd\n",
    "import json\n",
    "import joblib"
   ]
  },
  {
   "cell_type": "code",
   "execution_count": 2,
   "id": "2c1681a1-94f1-453c-b8f3-715edde476d6",
   "metadata": {},
   "outputs": [
    {
     "data": {
      "text/html": [
       "<div>\n",
       "<style scoped>\n",
       "    .dataframe tbody tr th:only-of-type {\n",
       "        vertical-align: middle;\n",
       "    }\n",
       "\n",
       "    .dataframe tbody tr th {\n",
       "        vertical-align: top;\n",
       "    }\n",
       "\n",
       "    .dataframe thead th {\n",
       "        text-align: right;\n",
       "    }\n",
       "</style>\n",
       "<table border=\"1\" class=\"dataframe\">\n",
       "  <thead>\n",
       "    <tr style=\"text-align: right;\">\n",
       "      <th></th>\n",
       "      <th>data</th>\n",
       "      <th>models</th>\n",
       "    </tr>\n",
       "  </thead>\n",
       "  <tbody>\n",
       "    <tr>\n",
       "      <th>ml</th>\n",
       "      <td>{'train': 'data/part2-training-data.joblib', '...</td>\n",
       "      <td>NaN</td>\n",
       "    </tr>\n",
       "    <tr>\n",
       "      <th>linear_regression</th>\n",
       "      <td>NaN</td>\n",
       "      <td>models/part2-model-pipeline.joblib</td>\n",
       "    </tr>\n",
       "  </tbody>\n",
       "</table>\n",
       "</div>"
      ],
      "text/plain": [
       "                                                                data  \\\n",
       "ml                 {'train': 'data/part2-training-data.joblib', '...   \n",
       "linear_regression                                                NaN   \n",
       "\n",
       "                                               models  \n",
       "ml                                                NaN  \n",
       "linear_regression  models/part2-model-pipeline.joblib  "
      ]
     },
     "execution_count": 2,
     "metadata": {},
     "output_type": "execute_result"
    }
   ],
   "source": [
    "df = pd.read_json('config/filepaths.json')\n",
    "df"
   ]
  },
  {
   "cell_type": "code",
   "execution_count": 8,
   "id": "4a67c473-d262-4087-bc31-a32c5db3772c",
   "metadata": {},
   "outputs": [
    {
     "data": {
      "text/plain": [
       "[            bathrooms  bedrooms  sqft_lot\n",
       " id                                       \n",
       " 1322049150       1.00         2      9753\n",
       " 293760310        4.50         5     12250\n",
       " 2568300266       2.50         4     11375\n",
       " 1796361140       1.75         3      8250\n",
       " 4019500030       2.50         3      4557\n",
       " ...               ...       ...       ...\n",
       " 2597490030       3.50         4      4006\n",
       " 114101500        1.75         4      9993\n",
       " 7852030960       2.50         3      4500\n",
       " 8682231210       2.00         2      5580\n",
       " 3630200780       3.75         4      5474\n",
       " \n",
       " [15905 rows x 3 columns],\n",
       " id\n",
       " 1322049150      85000.0\n",
       " 293760310      975000.0\n",
       " 2568300266     659000.0\n",
       " 1796361140     230000.0\n",
       " 4019500030     450000.0\n",
       "                 ...    \n",
       " 2597490030     815000.0\n",
       " 114101500      325000.0\n",
       " 7852030960     437500.0\n",
       " 8682231210     554000.0\n",
       " 3630200780    1051000.0\n",
       " Name: price, Length: 15905, dtype: float64]"
      ]
     },
     "execution_count": 8,
     "metadata": {},
     "output_type": "execute_result"
    }
   ],
   "source": [
    "train_path= joblib.load('data/part2-training-data.joblib')\n",
    "train_df = pd.DataFrame(train_path)\n",
    "train_df"
   ]
  },
  {
   "cell_type": "code",
   "execution_count": 9,
   "id": "4d9f054f-5199-4942-9784-64771476d0c0",
   "metadata": {},
   "outputs": [
    {
     "data": {
      "text/plain": [
       "[            bathrooms  bedrooms  sqft_lot\n",
       " id                                       \n",
       " 1777600210       2.25         4     10611\n",
       " 9430110120       2.50         3      7800\n",
       " 824059293        2.25         3     10890\n",
       " 8857320120       2.25         2      2819\n",
       " 9209900315       1.50         3      4400\n",
       " ...               ...       ...       ...\n",
       " 3293400010       2.50         5     35880\n",
       " 6169901197       1.50         3      2260\n",
       " 3037200010       2.25         2      2090\n",
       " 4113800410       2.50         3     11172\n",
       " 3438500625       1.00         3     21043\n",
       " \n",
       " [5302 rows x 3 columns],\n",
       " id\n",
       " 1777600210    590000.0\n",
       " 9430110120    737000.0\n",
       " 824059293     943500.0\n",
       " 8857320120    542000.0\n",
       " 9209900315    350000.0\n",
       "                 ...   \n",
       " 3293400010    950000.0\n",
       " 6169901197    900000.0\n",
       " 3037200010    447500.0\n",
       " 4113800410    640000.0\n",
       " 3438500625    210000.0\n",
       " Name: price, Length: 5302, dtype: float64]"
      ]
     },
     "execution_count": 9,
     "metadata": {},
     "output_type": "execute_result"
    }
   ],
   "source": [
    "test_path= joblib.load('data/part2-test-data.joblib')\n",
    "test_path"
   ]
  },
  {
   "cell_type": "code",
   "execution_count": null,
   "id": "512e3121-0ecd-4f76-9342-59673d5886e5",
   "metadata": {},
   "outputs": [],
   "source": []
  }
 ],
 "metadata": {
  "kernelspec": {
   "display_name": "Python (dojo-env)",
   "language": "python",
   "name": "dojo-env"
  },
  "language_info": {
   "codemirror_mode": {
    "name": "ipython",
    "version": 3
   },
   "file_extension": ".py",
   "mimetype": "text/x-python",
   "name": "python",
   "nbconvert_exporter": "python",
   "pygments_lexer": "ipython3",
   "version": "3.10.10"
  }
 },
 "nbformat": 4,
 "nbformat_minor": 5
}
