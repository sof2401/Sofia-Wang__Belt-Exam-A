{
 "cells": [
  {
   "cell_type": "code",
   "execution_count": 6,
   "id": "daf9a8fc-75b8-4a07-99f0-a56cc44e16dc",
   "metadata": {},
   "outputs": [],
   "source": [
    "import pandas as pd\n",
    "import json\n",
    "import joblib"
   ]
  },
  {
   "cell_type": "code",
   "execution_count": 16,
   "id": "1ed95405-b208-44be-b97f-0de1e772162a",
   "metadata": {},
   "outputs": [],
   "source": [
    "# with open('config/filepaths.json', 'r') as f:\n",
    "#     filepaths = json.load(f)"
   ]
  },
  {
   "cell_type": "code",
   "execution_count": 17,
   "id": "2c1681a1-94f1-453c-b8f3-715edde476d6",
   "metadata": {},
   "outputs": [
    {
     "data": {
      "text/html": [
       "<div>\n",
       "<style scoped>\n",
       "    .dataframe tbody tr th:only-of-type {\n",
       "        vertical-align: middle;\n",
       "    }\n",
       "\n",
       "    .dataframe tbody tr th {\n",
       "        vertical-align: top;\n",
       "    }\n",
       "\n",
       "    .dataframe thead th {\n",
       "        text-align: right;\n",
       "    }\n",
       "</style>\n",
       "<table border=\"1\" class=\"dataframe\">\n",
       "  <thead>\n",
       "    <tr style=\"text-align: right;\">\n",
       "      <th></th>\n",
       "      <th>data</th>\n",
       "      <th>models</th>\n",
       "    </tr>\n",
       "  </thead>\n",
       "  <tbody>\n",
       "    <tr>\n",
       "      <th>ml</th>\n",
       "      <td>{'train': 'data/part2-training-data.joblib', '...</td>\n",
       "      <td>NaN</td>\n",
       "    </tr>\n",
       "    <tr>\n",
       "      <th>linear_regression</th>\n",
       "      <td>NaN</td>\n",
       "      <td>models/part2-model-pipeline.joblib</td>\n",
       "    </tr>\n",
       "  </tbody>\n",
       "</table>\n",
       "</div>"
      ],
      "text/plain": [
       "                                                                data  \\\n",
       "ml                 {'train': 'data/part2-training-data.joblib', '...   \n",
       "linear_regression                                                NaN   \n",
       "\n",
       "                                               models  \n",
       "ml                                                NaN  \n",
       "linear_regression  models/part2-model-pipeline.joblib  "
      ]
     },
     "execution_count": 17,
     "metadata": {},
     "output_type": "execute_result"
    }
   ],
   "source": [
    "df = pd.read_json('config/filepaths.json')\n",
    "df"
   ]
  },
  {
   "cell_type": "code",
   "execution_count": 14,
   "id": "a74e1fca-7120-4877-8867-8226c20d5fd9",
   "metadata": {},
   "outputs": [
    {
     "ename": "KeyError",
     "evalue": "'part2-model-pipeline.joblib'",
     "output_type": "error",
     "traceback": [
      "\u001b[0;31m---------------------------------------------------------------------------\u001b[0m",
      "\u001b[0;31mKeyError\u001b[0m                                  Traceback (most recent call last)",
      "Cell \u001b[0;32mIn[14], line 1\u001b[0m\n\u001b[0;32m----> 1\u001b[0m model_path \u001b[38;5;241m=\u001b[39m \u001b[43mfilepaths\u001b[49m\u001b[43m[\u001b[49m\u001b[38;5;124;43m'\u001b[39;49m\u001b[38;5;124;43mmodels\u001b[39;49m\u001b[38;5;124;43m'\u001b[39;49m\u001b[43m]\u001b[49m\u001b[43m[\u001b[49m\u001b[38;5;124;43m'\u001b[39;49m\u001b[38;5;124;43mpart2-model-pipeline.joblib\u001b[39;49m\u001b[38;5;124;43m'\u001b[39;49m\u001b[43m]\u001b[49m\n\u001b[1;32m      2\u001b[0m X_train_path \u001b[38;5;241m=\u001b[39m filepaths[\u001b[38;5;124m'\u001b[39m\u001b[38;5;124mdata\u001b[39m\u001b[38;5;124m'\u001b[39m][\u001b[38;5;124m'\u001b[39m\u001b[38;5;124mml\u001b[39m\u001b[38;5;124m'\u001b[39m][\u001b[38;5;124m'\u001b[39m\u001b[38;5;124mtrain\u001b[39m\u001b[38;5;124m'\u001b[39m]\n\u001b[1;32m      3\u001b[0m y_train_path \u001b[38;5;241m=\u001b[39m filepaths[\u001b[38;5;124m'\u001b[39m\u001b[38;5;124mdata\u001b[39m\u001b[38;5;124m'\u001b[39m][\u001b[38;5;124m'\u001b[39m\u001b[38;5;124mml\u001b[39m\u001b[38;5;124m'\u001b[39m][\u001b[38;5;124m'\u001b[39m\u001b[38;5;124mtrain_labels\u001b[39m\u001b[38;5;124m'\u001b[39m]\n",
      "\u001b[0;31mKeyError\u001b[0m: 'part2-model-pipeline.joblib'"
     ]
    }
   ],
   "source": [
    "model_path = filepaths['models']['part2-model-pipeline.joblib']\n",
    "X_train_path = filepaths['data']['ml']['train']\n",
    "y_train_path = filepaths['data']['ml']['train_labels']\n",
    "\n",
    "model = joblib.load(model_path)\n",
    "X_train = joblib.load(X_train_path)\n",
    "y_train = joblib.load(y_train_path)"
   ]
  },
  {
   "cell_type": "code",
   "execution_count": 10,
   "id": "cfb6c4fc-1625-45e2-9504-a2b4c3c79244",
   "metadata": {},
   "outputs": [
    {
     "name": "stdout",
     "output_type": "stream",
     "text": [
      "                                                                data  \\\n",
      "ml                 {'train': 'data/part2-training-data.joblib', '...   \n",
      "linear_regression                                                NaN   \n",
      "\n",
      "                                               models  \n",
      "ml                                                NaN  \n",
      "linear_regression  models/part2-model-pipeline.joblib  \n"
     ]
    }
   ],
   "source": [
    "df = pd.read_json('config/filepaths.json')\n",
    "\n",
    "# Display the DataFrame\n",
    "print(df)"
   ]
  }
 ],
 "metadata": {
  "kernelspec": {
   "display_name": "Python (dojo-env)",
   "language": "python",
   "name": "dojo-env"
  },
  "language_info": {
   "codemirror_mode": {
    "name": "ipython",
    "version": 3
   },
   "file_extension": ".py",
   "mimetype": "text/x-python",
   "name": "python",
   "nbconvert_exporter": "python",
   "pygments_lexer": "ipython3",
   "version": "3.10.10"
  }
 },
 "nbformat": 4,
 "nbformat_minor": 5
}
